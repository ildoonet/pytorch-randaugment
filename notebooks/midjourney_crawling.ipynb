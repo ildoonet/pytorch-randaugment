{
 "cells": [
  {
   "cell_type": "code",
   "execution_count": 54,
   "metadata": {},
   "outputs": [],
   "source": [
    "# https://www.midjourney.com/app/\n",
    "\n",
    "# {\"_state\":{\"users\":[{\"id\":\"977028166235328542\",\"avatar\":null,\"username\":\"carl.kr\",\"discriminator\":\"4787\",\"tokenStatus\":0},{\"id\":\"907770720585658369\",\"avatar\":null,\"username\":\"carl.brain\",\"discriminator\":\"5729\",\"tokenStatus\":2}]},\"_version\":0}\n",
    "# {\"977028166235328542\":\"OTc3MDI4MTY2MjM1MzI4NTQy.GakPbb.ntrV1zs44e1lWeOqssPInlnd3wF1-jAFojsCag\",\"907770720585658369\":\"OTA3NzcwNzIwNTg1NjU4MzY5.GwbYDD.Mw8AX6sCkoRqhHNFe4YTvovgxhY96Nu7wM-nKU\"}\n",
    "# \"OTA3NzcwNzIwNTg1NjU4MzY5.GwbYDD.Mw8AX6sCkoRqhHNFe4YTvovgxhY96Nu7wM-nKU\""
   ]
  },
  {
   "cell_type": "code",
   "execution_count": 4,
   "metadata": {},
   "outputs": [],
   "source": [
    "from selenium import webdriver\n",
    "from selenium.webdriver.support.ui import WebDriverWait\n",
    "from selenium.webdriver.support import expected_conditions as EC\n",
    "from selenium.webdriver.common.by import By\n",
    "from selenium.common.exceptions import TimeoutException\n",
    "from selenium.webdriver.common.keys import Keys"
   ]
  },
  {
   "cell_type": "code",
   "execution_count": 5,
   "metadata": {},
   "outputs": [],
   "source": [
    "import numpy as np"
   ]
  },
  {
   "cell_type": "code",
   "execution_count": 6,
   "metadata": {},
   "outputs": [],
   "source": [
    "import os\n",
    "import pandas as pd"
   ]
  },
  {
   "cell_type": "code",
   "execution_count": 11,
   "metadata": {},
   "outputs": [
    {
     "name": "stderr",
     "output_type": "stream",
     "text": [
      "sh: cls: command not found\n"
     ]
    },
    {
     "data": {
      "text/plain": [
       "32512"
      ]
     },
     "execution_count": 11,
     "metadata": {},
     "output_type": "execute_result"
    }
   ],
   "source": [
    "from os import system\n",
    "from time import sleep\n",
    "from selenium import webdriver\n",
    "\n",
    "# Token = str(input(\"로그인에 사용 하실 토큰을 입력하세요. : \"))\n",
    "Token = 'OTA3NzcwNzIwNTg1NjU4MzY5.GwbYDD.Mw8AX6sCkoRqhHNFe4YTvovgxhY96Nu7wM-nKU'\n",
    "driver = webdriver.Chrome()\n",
    "driver.maximize_window()\n",
    "driver.get('https://discord.com/login')\n",
    "sleep(1)\n",
    "driver.execute_script('window.t = \"' + Token + '\";window.localStorage = document.body.appendChild(document.createElement `iframe`).contentWindow.localStorage;window.setInterval(() => window.localStorage.token = `\"${window.t}\"`); window.location.reload();')\n",
    "system('cls')\n",
    "# while True:\n",
    "#     print('디스코드 토큰으로 로그인이 되었습니다.')\n",
    "#     print('사용된 토큰 : ' + Token)\n",
    "#     sleep(3)\n",
    "#     system('cls')"
   ]
  },
  {
   "cell_type": "code",
   "execution_count": 12,
   "metadata": {},
   "outputs": [],
   "source": [
    "midjourney_path = './mj_output'"
   ]
  },
  {
   "cell_type": "code",
   "execution_count": 20,
   "metadata": {},
   "outputs": [
    {
     "name": "stdout",
     "output_type": "stream",
     "text": [
      "STEP:  0  --- Save:: 39 ( 100.0 %) ||  -- skip:: 0 ( 0.0 %) || Total:: 39\n",
      "STEP:  1  --- Save:: 37 ( 52.86 %) ||  -- skip:: 33 ( 47.14 %) || Total:: 76\n",
      "STEP:  2  --- Save:: 16 ( 22.86 %) ||  -- skip:: 54 ( 77.14 %) || Total:: 92\n",
      "STEP:  3  --- Save:: 16 ( 22.54 %) ||  -- skip:: 55 ( 77.46 %) || Total:: 108\n",
      "STEP:  4  --- Save:: 5 ( 8.33 %) ||  -- skip:: 55 ( 91.67 %) || Total:: 113\n",
      "STEP:  5  --- Save:: 5 ( 7.25 %) ||  -- skip:: 64 ( 92.75 %) || Total:: 118\n",
      "STEP:  6  --- Save:: 8 ( 15.09 %) ||  -- skip:: 45 ( 84.91 %) || Total:: 126\n",
      "STEP:  7  --- Save:: 6 ( 10.91 %) ||  -- skip:: 49 ( 89.09 %) || Total:: 132\n",
      "STEP:  8  --- Save:: 6 ( 11.11 %) ||  -- skip:: 48 ( 88.89 %) || Total:: 138\n",
      "STEP:  9  --- Save:: 8 ( 14.55 %) ||  -- skip:: 47 ( 85.45 %) || Total:: 146\n",
      "STEP:  0  --- Save:: 38 ( 97.44 %) ||  -- skip:: 1 ( 2.56 %) || Total:: 38\n",
      "STEP:  1  --- Save:: 49 ( 62.03 %) ||  -- skip:: 30 ( 37.97 %) || Total:: 87\n",
      "STEP:  2  --- Save:: 50 ( 65.79 %) ||  -- skip:: 26 ( 34.21 %) || Total:: 137\n",
      "STEP:  3  --- Save:: 50 ( 66.67 %) ||  -- skip:: 25 ( 33.33 %) || Total:: 187\n",
      "STEP:  4  --- Save:: 42 ( 61.76 %) ||  -- skip:: 26 ( 38.24 %) || Total:: 229\n",
      "STEP:  5  --- Save:: 37 ( 49.33 %) ||  -- skip:: 38 ( 50.67 %) || Total:: 266\n",
      "STEP:  6  --- Save:: 43 ( 59.72 %) ||  -- skip:: 29 ( 40.28 %) || Total:: 309\n",
      "STEP:  7  --- Save:: 26 ( 46.43 %) ||  -- skip:: 30 ( 53.57 %) || Total:: 335\n",
      "STEP:  8  --- Save:: 10 ( 20.41 %) ||  -- skip:: 39 ( 79.59 %) || Total:: 345\n",
      "STEP:  9  --- Save:: 48 ( 68.57 %) ||  -- skip:: 22 ( 31.43 %) || Total:: 393\n",
      "STEP:  0  --- Save:: 35 ( 100.0 %) ||  -- skip:: 0 ( 0.0 %) || Total:: 35\n",
      "STEP:  1  --- Save:: 23 ( 46.0 %) ||  -- skip:: 27 ( 54.0 %) || Total:: 58\n",
      "STEP:  2  --- Save:: 6 ( 12.0 %) ||  -- skip:: 44 ( 88.0 %) || Total:: 64\n",
      "STEP:  5  --- Save:: 5 ( 9.09 %) ||  -- skip:: 50 ( 90.91 %) || Total:: 69\n"
     ]
    }
   ],
   "source": [
    "result_list = []\n",
    "\n",
    "search_keywords = ['corgi', 'emma watson', 'star wars scene', 'iphone']\n",
    "repeat_searching = 1\n",
    "wait_search_result = 50 # seconds\n",
    "page_scrolling = 10\n",
    "wait_pagedown_loading = 5 # seconds\n",
    "basic_wait_term = 0.5 # seconds\n",
    "# 2022-11-14\n",
    "mj_selector = \"div.relative.text-\\[0\\].select-none.\\.overflow-hidden.cursor-zoom-in.bg-contain > span > img\"\n",
    "\n",
    "target_url =f\"https://www.midjourney.com/app/feed/all/?search=%s\"%('brain')\n",
    "driver.get(target_url)\n",
    "sleep(wait_search_result)\n",
    "\n",
    "\n",
    "for skey in search_keywords:\n",
    "    if not os.path.exists(f'%s/%s'%(midjourney_path, skey)):\n",
    "        os.makedirs(f'%s/%s'%(midjourney_path, skey))\n",
    "\n",
    "    search_kw = skey\n",
    "    # https://www.midjourney.com/app/feed/all/?search=\n",
    "    target_url =f\"https://www.midjourney.com/app/feed/all/?search=%s\"%(search_kw)\n",
    "    driver.get(target_url)\n",
    "\n",
    "    curr_prompt_list = []\n",
    "    curr_result_list = []\n",
    "\n",
    "    for rr in range(repeat_searching):\n",
    "        driver.get(target_url)\n",
    "        sleep(wait_search_result)\n",
    "        body = driver.find_element(By.TAG_NAME, \"body\")\n",
    "        sleep(basic_wait_term)\n",
    "        \n",
    "        skip_num = 0\n",
    "        for ii in range(page_scrolling):\n",
    "            sleep(0.5)\n",
    "            # p_list = driver.find_elements(By.CSS_SELECTOR,\"p._promptText_\")\n",
    "            p_list = driver.find_elements(By.CSS_SELECTOR, mj_selector)\n",
    "            cnt_same = 0\n",
    "            cnt_save = 0\n",
    "            for p in p_list:\n",
    "                # p_str = p.get_attribute('innerHTML') \n",
    "                p_str = p.get_attribute('alt')\n",
    "                img_src = p.get_attribute('src')\n",
    "                p_str = p_str.strip()\n",
    "                if p_str not in curr_prompt_list:\n",
    "                    curr_prompt_list.append(p_str)\n",
    "                    curr_result_list.append({\n",
    "                        'prompt':p_str,\n",
    "                        'img_src':img_src\n",
    "                    })\n",
    "                    cnt_save += 1 \n",
    "                else:\n",
    "                    cnt_same += 1\n",
    "            if cnt_same >= len(p_list)-2:\n",
    "                skip_num += 1\n",
    "                body.send_keys(Keys.END)\n",
    "                sleep(basic_wait_term)\n",
    "                if skip_num > 40:\n",
    "                    break\n",
    "                continue\n",
    "\n",
    "            # if ii % 10 == 0:\n",
    "            print('STEP: ', ii, ' --- Save::', cnt_save, '(', np.round(cnt_save/len(p_list)*100,2), '%) || ', \n",
    "                    '-- skip::', cnt_same, '(', np.round(cnt_same/len(p_list)*100,2), '%)',\n",
    "                    '|| Total::', len(curr_prompt_list))\n",
    "            sleep(basic_wait_term)\n",
    "            for i in range(3):\n",
    "                body.send_keys(Keys.PAGE_DOWN)\n",
    "                sleep(wait_pagedown_loading)\n",
    "            sleep(basic_wait_term)\n",
    "        \n",
    "    result_list.append({\n",
    "        search_kw : {\n",
    "            'data': curr_result_list,\n",
    "            'length': len(curr_result_list)\n",
    "        }\n",
    "    })"
   ]
  },
  {
   "cell_type": "code",
   "execution_count": 21,
   "metadata": {},
   "outputs": [
    {
     "name": "stdout",
     "output_type": "stream",
     "text": [
      "Saved:  corgi  -  146\n",
      "Saved:  emma watson  -  0\n",
      "Saved:  star wars scene  -  393\n",
      "Saved:  iphone  -  69\n"
     ]
    }
   ],
   "source": [
    "for skey in search_keywords:\n",
    "    df = pd.DataFrame(result_list[search_keywords.index(skey)][skey]['data'])\n",
    "    df.to_csv(f'%s/%s/%s.csv'%(midjourney_path, skey, skey), index=False)\n",
    "    print('Saved: ', skey, ' - ', len(df))"
   ]
  },
  {
   "cell_type": "code",
   "execution_count": 46,
   "metadata": {},
   "outputs": [],
   "source": []
  }
 ],
 "metadata": {
  "kernelspec": {
   "display_name": "Python 3.9.7 ('tensorflow-test')",
   "language": "python",
   "name": "python3"
  },
  "language_info": {
   "codemirror_mode": {
    "name": "ipython",
    "version": 3
   },
   "file_extension": ".py",
   "mimetype": "text/x-python",
   "name": "python",
   "nbconvert_exporter": "python",
   "pygments_lexer": "ipython3",
   "version": "3.9.7"
  },
  "orig_nbformat": 4,
  "vscode": {
   "interpreter": {
    "hash": "4b006356f96ea071aa9c43650ba19fd74a92df6c1991b7409b7dd0873a479af4"
   }
  }
 },
 "nbformat": 4,
 "nbformat_minor": 2
}
